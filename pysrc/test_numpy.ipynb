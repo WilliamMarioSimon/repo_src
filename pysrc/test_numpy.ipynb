{
 "cells": [
  {
   "metadata": {
    "ExecuteTime": {
     "end_time": "2025-05-09T13:26:54.848559Z",
     "start_time": "2025-05-09T13:26:53.729862Z"
    }
   },
   "cell_type": "code",
   "source": [
    "import random\n",
    "import time\n",
    "import numpy as np\n",
    "a=[]\n",
    "for i in range(10000000):\n",
    "    a.append(random.random())\n",
    "\n",
    "t1 = time.time()\n",
    "sum1 = sum(a)\n",
    "t2 = time.time()\n",
    "\n",
    "b = np.array(a)\n",
    "t3 = time.time()\n",
    "sum2 = np.sum(b)\n",
    "t4 = time.time()\n",
    "\n",
    "print('%s = %lf' %(type(a), (t2-t1)))\n",
    "print('%s = %lf' %(type(b), (t3-t2)))"
   ],
   "id": "initial_id",
   "outputs": [
    {
     "name": "stdout",
     "output_type": "stream",
     "text": [
      "<class 'list'> = 0.034092\n",
      "<class 'numpy.ndarray'> = 0.255152\n"
     ]
    }
   ],
   "execution_count": 6
  },
  {
   "metadata": {
    "ExecuteTime": {
     "end_time": "2025-05-09T13:28:38.769411Z",
     "start_time": "2025-05-09T13:28:38.764406Z"
    }
   },
   "cell_type": "code",
   "source": [
    "# create array methods\n",
    "temp = [1,2,3,4,5,6,7,8,9]\n",
    "arr1 = np.array(temp)\n",
    "print(type(arr1))\n",
    "print(arr1)\n",
    "\n",
    "\n",
    "arr2 = np.array([4,24,2,2,2,3,4])\n",
    "print(type(arr2))\n",
    "print(arr2)\n",
    "\n",
    "arr3 = np.array(range(5))\n",
    "print(type(arr3))\n",
    "print(arr3)\n",
    "\n",
    "arr4 = np.arange(0,10,3)\n",
    "print(type(arr4))\n",
    "print(arr4)\n"
   ],
   "id": "754d59d0905b137",
   "outputs": [
    {
     "name": "stdout",
     "output_type": "stream",
     "text": [
      "<class 'numpy.ndarray'>\n",
      "[1 2 3 4 5 6 7 8 9]\n",
      "<class 'numpy.ndarray'>\n",
      "[ 4 24  2  2  2  3  4]\n",
      "<class 'numpy.ndarray'>\n",
      "[0 1 2 3 4]\n",
      "<class 'numpy.ndarray'>\n",
      "[0 3 6 9]\n"
     ]
    }
   ],
   "execution_count": 10
  },
  {
   "metadata": {
    "ExecuteTime": {
     "end_time": "2025-05-09T13:31:38.648723Z",
     "start_time": "2025-05-09T13:31:38.645636Z"
    }
   },
   "cell_type": "code",
   "source": [
    "list1 = [[1,2],[3,4],[5,6]]\n",
    "twoDimension = np.array(list1)\n",
    "print(twoDimension.ndim)\n",
    "print(twoDimension.shape)\n",
    "print(twoDimension.size)"
   ],
   "id": "b071d6d9cc7ebba9",
   "outputs": [
    {
     "name": "stdout",
     "output_type": "stream",
     "text": [
      "2\n",
      "(3, 2)\n",
      "6\n"
     ]
    }
   ],
   "execution_count": 12
  },
  {
   "metadata": {
    "ExecuteTime": {
     "end_time": "2025-05-09T13:53:57.553134Z",
     "start_time": "2025-05-09T13:53:57.548908Z"
    }
   },
   "cell_type": "code",
   "source": [
    "t = np.arange(24).reshape(4,6)\n",
    "print(t)"
   ],
   "id": "e8e27db4d1de9431",
   "outputs": [
    {
     "name": "stdout",
     "output_type": "stream",
     "text": [
      "[[ 0  1  2  3  4  5]\n",
      " [ 6  7  8  9 10 11]\n",
      " [12 13 14 15 16 17]\n",
      " [18 19 20 21 22 23]]\n"
     ]
    }
   ],
   "execution_count": 13
  },
  {
   "metadata": {},
   "cell_type": "code",
   "outputs": [],
   "execution_count": null,
   "source": "",
   "id": "23321004a962a409"
  }
 ],
 "metadata": {
  "kernelspec": {
   "display_name": "Python 3",
   "language": "python",
   "name": "python3"
  },
  "language_info": {
   "codemirror_mode": {
    "name": "ipython",
    "version": 2
   },
   "file_extension": ".py",
   "mimetype": "text/x-python",
   "name": "python",
   "nbconvert_exporter": "python",
   "pygments_lexer": "ipython2",
   "version": "2.7.6"
  }
 },
 "nbformat": 4,
 "nbformat_minor": 5
}
